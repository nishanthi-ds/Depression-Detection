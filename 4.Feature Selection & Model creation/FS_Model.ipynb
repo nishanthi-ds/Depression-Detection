{
 "cells": [
  {
   "cell_type": "markdown",
   "id": "202d8097-c170-4cc9-9b69-061c24f73b48",
   "metadata": {},
   "source": [
    "# Feature Selection and Model Training\n"
   ]
  },
  {
   "cell_type": "code",
   "execution_count": 2,
   "id": "80d06846-e1db-4ebc-9012-1c50f2c6de13",
   "metadata": {},
   "outputs": [],
   "source": [
    "# Import Libraries\n",
    "import pandas as pd\n",
    "import numpy as np\n",
    "import matplotlib.pyplot as plt\n",
    "import seaborn as sns\n",
    "import random\n",
    "from sklearn.model_selection import train_test_split\n",
    "from sklearn.tree import DecisionTreeClassifier\n",
    "from sklearn.metrics import classification_report"
   ]
  },
  {
   "cell_type": "code",
   "execution_count": 3,
   "id": "a9a604bc-41e6-457b-a9e7-60a1038d9437",
   "metadata": {},
   "outputs": [],
   "source": [
    "# read preprocessed dataset\n",
    "df = pd.read_csv(r\"C:\\Nishanthi\\Hope AI\\Projects\\Depression Detection\\Ordered_Formate\\2.Data- Preprocessing\\Preprocessed_data.csv\")"
   ]
  },
  {
   "cell_type": "markdown",
   "id": "1c66fbb4-0e5e-4b56-a326-9ddd221ecf74",
   "metadata": {},
   "source": [
    "# Feature Selection"
   ]
  },
  {
   "cell_type": "code",
   "execution_count": 4,
   "id": "9e55e54a-edbe-495d-a8a5-8d448677c87b",
   "metadata": {},
   "outputs": [
    {
     "name": "stdout",
     "output_type": "stream",
     "text": [
      "(73925, 18) (73925,)\n",
      "\n",
      "Top Features:\n",
      "                     Feature  Importance\n",
      "10          Social_Weakness    0.155631\n",
      "6     Mental_Health_History    0.135394\n",
      "4              Days_Indoors    0.125958\n",
      "7               Mood_Swings    0.116158\n",
      "5            Changes_Habits    0.104852\n",
      "0                    Gender    0.098638\n",
      "8          Coping_Struggles    0.071198\n",
      "9             Work_Interest    0.046691\n",
      "14     Occupation_Corporate    0.043229\n",
      "17       Occupation_Student    0.042702\n",
      "15     Occupation_Housewife    0.035269\n",
      "16        Occupation_Others    0.023385\n",
      "11  mental_health_interview    0.000293\n",
      "1             self_employed    0.000211\n",
      "13                    Month    0.000156\n",
      "12             care_options    0.000151\n",
      "3                 treatment    0.000079\n",
      "2            family_history    0.000005\n"
     ]
    }
   ],
   "source": [
    "\n",
    "X = df[['Gender', 'self_employed', 'family_history', 'treatment','Days_Indoors', 'Changes_Habits','Mental_Health_History', 'Mood_Swings', 'Coping_Struggles',\n",
    "       'Work_Interest', 'Social_Weakness', 'mental_health_interview','care_options', 'Month', 'Occupation_Corporate', 'Occupation_Housewife','Occupation_Others', 'Occupation_Student']]  # Features\n",
    "y = df['Growing_Stress']  # Target\n",
    "\n",
    "clf = DecisionTreeClassifier(criterion=\"gini\", max_depth=14, random_state=42)\n",
    "clf.fit(X, y)\n",
    "print(X.shape, y.shape)\n",
    "\n",
    "# Get Feature Importances\n",
    "feature_importance = pd.DataFrame({'Feature': X.columns, 'Importance': clf.feature_importances_}).sort_values(by='Importance', ascending=False)  # Sort by importance\n",
    "print(\"\\nTop Features:\\n\", feature_importance)"
   ]
  },
  {
   "cell_type": "markdown",
   "id": "ddde4a86-55e9-4228-945f-c8d43f546f93",
   "metadata": {},
   "source": [
    "# Training and Testing model"
   ]
  },
  {
   "cell_type": "code",
   "execution_count": 5,
   "id": "09e930fb-1dcc-481b-848d-244e3ff65640",
   "metadata": {},
   "outputs": [],
   "source": [
    "# Define features and target\n",
    "X = df[['Social_Weakness','Changes_Habits','Days_Indoors','Mental_Health_History','Gender','Mood_Swings',\n",
    "         'Occupation_Student','Occupation_Corporate','Occupation_Housewife','Occupation_Others','Work_Interest']]  # Features\n",
    "y = df['Growing_Stress']  # Target\n",
    "X_train, X_test, y_train, y_test = train_test_split(X, y, train_size=0.8, random_state=42)"
   ]
  },
  {
   "cell_type": "code",
   "execution_count": 6,
   "id": "f5394854-5e51-467f-bd9a-7e14fed8eb4f",
   "metadata": {},
   "outputs": [
    {
     "name": "stdout",
     "output_type": "stream",
     "text": [
      "              precision    recall  f1-score   support\n",
      "\n",
      "           0       0.99      0.99      0.99      7115\n",
      "           1       0.99      0.99      0.99      7670\n",
      "\n",
      "    accuracy                           0.99     14785\n",
      "   macro avg       0.99      0.99      0.99     14785\n",
      "weighted avg       0.99      0.99      0.99     14785\n",
      "\n"
     ]
    }
   ],
   "source": [
    "# Create Decision Tree Classifier\n",
    "clf = DecisionTreeClassifier(criterion=\"gini\", max_depth=15, random_state=42)\n",
    "clf.fit(X_train, y_train)\n",
    "\n",
    "y_pred = clf.predict(X_test)\n",
    "\n",
    "print(classification_report(y_test, y_pred))"
   ]
  },
  {
   "cell_type": "markdown",
   "id": "e0788c40-81da-40dd-a027-702c6a16959d",
   "metadata": {},
   "source": [
    "# Save model"
   ]
  },
  {
   "cell_type": "code",
   "execution_count": 7,
   "id": "f6288fa0-a48f-4d28-9bfb-21ba596a44c2",
   "metadata": {},
   "outputs": [],
   "source": [
    "# save model\n",
    "import pickle \n",
    "\n",
    "pickle.dump(clf, open('Depression_detection_model.sav', 'wb'))"
   ]
  }
 ],
 "metadata": {
  "kernelspec": {
   "display_name": "Python 3 (ipykernel)",
   "language": "python",
   "name": "python3"
  },
  "language_info": {
   "codemirror_mode": {
    "name": "ipython",
    "version": 3
   },
   "file_extension": ".py",
   "mimetype": "text/x-python",
   "name": "python",
   "nbconvert_exporter": "python",
   "pygments_lexer": "ipython3",
   "version": "3.12.7"
  }
 },
 "nbformat": 4,
 "nbformat_minor": 5
}
