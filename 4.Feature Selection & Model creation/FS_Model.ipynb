{
 "cells": [
  {
   "cell_type": "markdown",
   "id": "202d8097-c170-4cc9-9b69-061c24f73b48",
   "metadata": {},
   "source": [
    "# Feature Selection and Model Training\n"
   ]
  },
  {
   "cell_type": "code",
   "execution_count": 1,
   "id": "80d06846-e1db-4ebc-9012-1c50f2c6de13",
   "metadata": {},
   "outputs": [],
   "source": [
    "# Import Libraries\n",
    "import pandas as pd\n",
    "import numpy as np\n",
    "import matplotlib.pyplot as plt\n",
    "import seaborn as sns\n",
    "import random\n",
    "from sklearn.model_selection import train_test_split\n",
    "from sklearn.tree import DecisionTreeClassifier\n",
    "from sklearn.metrics import classification_report"
   ]
  },
  {
   "cell_type": "code",
   "execution_count": 2,
   "id": "a9a604bc-41e6-457b-a9e7-60a1038d9437",
   "metadata": {},
   "outputs": [],
   "source": [
    "# read preprocessed dataset\n",
    "df = pd.read_csv(r\"C:\\Nishanthi\\Hope AI\\Projects\\Depression Detection\\Ordered_Formate\\2.Data- Preprocessing\\Preprocessed_data.csv\")"
   ]
  },
  {
   "cell_type": "markdown",
   "id": "1c66fbb4-0e5e-4b56-a326-9ddd221ecf74",
   "metadata": {},
   "source": [
    "# Feature Selection"
   ]
  },
  {
   "cell_type": "code",
   "execution_count": 3,
   "id": "9e55e54a-edbe-495d-a8a5-8d448677c87b",
   "metadata": {},
   "outputs": [
    {
     "name": "stdout",
     "output_type": "stream",
     "text": [
      "(73925, 18) (73925,)\n",
      "\n",
      "Top Features:\n",
      "                     Feature  Importance\n",
      "10          Social_Weakness    0.155631\n",
      "6     Mental_Health_History    0.135394\n",
      "4              Days_Indoors    0.125958\n",
      "7               Mood_Swings    0.116158\n",
      "5            Changes_Habits    0.104852\n",
      "0                    Gender    0.098638\n",
      "8          Coping_Struggles    0.071198\n",
      "9             Work_Interest    0.046691\n",
      "14     Occupation_Corporate    0.043229\n",
      "17       Occupation_Student    0.042702\n",
      "15     Occupation_Housewife    0.035269\n",
      "16        Occupation_Others    0.023385\n",
      "11  mental_health_interview    0.000293\n",
      "1             self_employed    0.000211\n",
      "13                    Month    0.000156\n",
      "12             care_options    0.000151\n",
      "3                 treatment    0.000079\n",
      "2            family_history    0.000005\n"
     ]
    }
   ],
   "source": [
    "\n",
    "X = df[['Gender', 'self_employed', 'family_history', 'treatment','Days_Indoors', 'Changes_Habits','Mental_Health_History', 'Mood_Swings', 'Coping_Struggles',\n",
    "       'Work_Interest', 'Social_Weakness', 'mental_health_interview','care_options', 'Month', 'Occupation_Corporate', 'Occupation_Housewife','Occupation_Others', 'Occupation_Student']]  # Features\n",
    "y = df['Growing_Stress']  # Target\n",
    "\n",
    "clf = DecisionTreeClassifier(criterion=\"gini\", max_depth=14, random_state=42)\n",
    "clf.fit(X, y)\n",
    "print(X.shape, y.shape)\n",
    "\n",
    "# Get Feature Importances\n",
    "feature_importance = pd.DataFrame({'Feature': X.columns, 'Importance': clf.feature_importances_}).sort_values(by='Importance', ascending=False)  # Sort by importance\n",
    "print(\"\\nTop Features:\\n\", feature_importance)"
   ]
  },
  {
   "cell_type": "markdown",
   "id": "ddde4a86-55e9-4228-945f-c8d43f546f93",
   "metadata": {},
   "source": [
    "# Model Creation\n"
   ]
  },
  {
   "cell_type": "code",
   "execution_count": 4,
   "id": "09e930fb-1dcc-481b-848d-244e3ff65640",
   "metadata": {},
   "outputs": [],
   "source": [
    "# Define features and target\n",
    "X = df[['Social_Weakness','Changes_Habits','Days_Indoors','Mental_Health_History','Gender','Mood_Swings',\n",
    "         'Occupation_Student','Occupation_Corporate','Occupation_Housewife','Occupation_Others','Work_Interest']]  # Features\n",
    "y = df['Growing_Stress']  # Target\n",
    "X_train, X_test, y_train, y_test = train_test_split(X, y, train_size=0.8, random_state=42)"
   ]
  },
  {
   "cell_type": "code",
   "execution_count": 16,
   "id": "dbbbc9c2-d255-49f3-bf6d-abf1f4f65f89",
   "metadata": {},
   "outputs": [],
   "source": [
    "from sklearn.linear_model import LogisticRegression\n",
    "from sklearn.svm import SVC\n",
    "from sklearn.neighbors import KNeighborsClassifier\n",
    "from sklearn.naive_bayes import GaussianNB"
   ]
  },
  {
   "cell_type": "code",
   "execution_count": 6,
   "id": "d555f407-b213-47c6-9b82-1a3d24b2fcc6",
   "metadata": {},
   "outputs": [
    {
     "name": "stdout",
     "output_type": "stream",
     "text": [
      "              precision    recall  f1-score   support\n",
      "\n",
      "           0       0.61      0.47      0.53      7115\n",
      "           1       0.59      0.71      0.65      7670\n",
      "\n",
      "    accuracy                           0.60     14785\n",
      "   macro avg       0.60      0.59      0.59     14785\n",
      "weighted avg       0.60      0.60      0.59     14785\n",
      "\n"
     ]
    },
    {
     "name": "stderr",
     "output_type": "stream",
     "text": [
      "C:\\Users\\ANISH\\NisAnaconda\\Lib\\site-packages\\sklearn\\linear_model\\_logistic.py:469: ConvergenceWarning: lbfgs failed to converge (status=1):\n",
      "STOP: TOTAL NO. of ITERATIONS REACHED LIMIT.\n",
      "\n",
      "Increase the number of iterations (max_iter) or scale the data as shown in:\n",
      "    https://scikit-learn.org/stable/modules/preprocessing.html\n",
      "Please also refer to the documentation for alternative solver options:\n",
      "    https://scikit-learn.org/stable/modules/linear_model.html#logistic-regression\n",
      "  n_iter_i = _check_optimize_result(\n"
     ]
    }
   ],
   "source": [
    "# Logistic Regression \n",
    "log_model = LogisticRegression()\n",
    "log_model.fit(X_train, y_train)\n",
    "y_pred = log_model.predict(X_test)\n",
    "\n",
    "print(classification_report(y_test, y_pred))"
   ]
  },
  {
   "cell_type": "code",
   "execution_count": 9,
   "id": "c521b90f-b6e1-4aa4-909a-a1943cb27b41",
   "metadata": {},
   "outputs": [
    {
     "name": "stdout",
     "output_type": "stream",
     "text": [
      "              precision    recall  f1-score   support\n",
      "\n",
      "           0       0.61      0.49      0.54      7115\n",
      "           1       0.60      0.71      0.65      7670\n",
      "\n",
      "    accuracy                           0.61     14785\n",
      "   macro avg       0.61      0.60      0.60     14785\n",
      "weighted avg       0.61      0.61      0.60     14785\n",
      "\n"
     ]
    }
   ],
   "source": [
    "# SVM\n",
    "model = SVC(kernel='rbf')\n",
    "model.fit(X_train, y_train)\n",
    "y_pred = model.predict(X_test)\n",
    "\n",
    "print(classification_report(y_test, y_pred))"
   ]
  },
  {
   "cell_type": "code",
   "execution_count": 20,
   "id": "2c7b5efd-a198-44bf-93a5-0affbd25533f",
   "metadata": {},
   "outputs": [
    {
     "name": "stdout",
     "output_type": "stream",
     "text": [
      "              precision    recall  f1-score   support\n",
      "\n",
      "           0       0.96      0.96      0.96      7115\n",
      "           1       0.96      0.96      0.96      7670\n",
      "\n",
      "    accuracy                           0.96     14785\n",
      "   macro avg       0.96      0.96      0.96     14785\n",
      "weighted avg       0.96      0.96      0.96     14785\n",
      "\n"
     ]
    }
   ],
   "source": [
    "# K Neighbors\n",
    "model = KNeighborsClassifier()\n",
    "model.fit(X_train, y_train)\n",
    "y_pred = model.predict(X_test)\n",
    "\n",
    "print(classification_report(y_test, y_pred))"
   ]
  },
  {
   "cell_type": "code",
   "execution_count": 18,
   "id": "ec9364a3-c6b7-4292-9467-ab00f2b47175",
   "metadata": {},
   "outputs": [
    {
     "name": "stdout",
     "output_type": "stream",
     "text": [
      "              precision    recall  f1-score   support\n",
      "\n",
      "           0       0.56      0.50      0.53      7115\n",
      "           1       0.58      0.64      0.61      7670\n",
      "\n",
      "    accuracy                           0.57     14785\n",
      "   macro avg       0.57      0.57      0.57     14785\n",
      "weighted avg       0.57      0.57      0.57     14785\n",
      "\n"
     ]
    }
   ],
   "source": [
    "# Naive Bayes\n",
    "model = GaussianNB()\n",
    "model.fit(X_train, y_train)\n",
    "y_pred = model.predict(X_test)\n",
    "\n",
    "print(classification_report(y_test, y_pred))"
   ]
  },
  {
   "cell_type": "code",
   "execution_count": 19,
   "id": "f5394854-5e51-467f-bd9a-7e14fed8eb4f",
   "metadata": {},
   "outputs": [
    {
     "name": "stdout",
     "output_type": "stream",
     "text": [
      "              precision    recall  f1-score   support\n",
      "\n",
      "           0       0.99      0.99      0.99      7115\n",
      "           1       0.99      0.99      0.99      7670\n",
      "\n",
      "    accuracy                           0.99     14785\n",
      "   macro avg       0.99      0.99      0.99     14785\n",
      "weighted avg       0.99      0.99      0.99     14785\n",
      "\n"
     ]
    }
   ],
   "source": [
    "# Create Decision Tree Classifier\n",
    "clf = DecisionTreeClassifier(criterion=\"gini\", max_depth=15, random_state=42)\n",
    "clf.fit(X_train, y_train)\n",
    "\n",
    "y_pred = clf.predict(X_test)\n",
    "\n",
    "print(classification_report(y_test, y_pred))"
   ]
  },
  {
   "cell_type": "markdown",
   "id": "e0788c40-81da-40dd-a027-702c6a16959d",
   "metadata": {},
   "source": [
    "# Save model"
   ]
  },
  {
   "cell_type": "code",
   "execution_count": 7,
   "id": "f6288fa0-a48f-4d28-9bfb-21ba596a44c2",
   "metadata": {},
   "outputs": [],
   "source": [
    "# save best model  - Decision Tree\n",
    "import pickle \n",
    "\n",
    "pickle.dump(clf, open('Depression_detection_model.sav', 'wb'))"
   ]
  }
 ],
 "metadata": {
  "kernelspec": {
   "display_name": "Python 3 (ipykernel)",
   "language": "python",
   "name": "python3"
  },
  "language_info": {
   "codemirror_mode": {
    "name": "ipython",
    "version": 3
   },
   "file_extension": ".py",
   "mimetype": "text/x-python",
   "name": "python",
   "nbconvert_exporter": "python",
   "pygments_lexer": "ipython3",
   "version": "3.12.7"
  }
 },
 "nbformat": 4,
 "nbformat_minor": 5
}
