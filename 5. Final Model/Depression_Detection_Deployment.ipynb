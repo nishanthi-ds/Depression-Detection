{
 "cells": [
  {
   "cell_type": "markdown",
   "id": "f000a16a-d6fe-46cf-853c-a5860d5ad6a6",
   "metadata": {},
   "source": [
    "#                                    Depression Detection Deployment"
   ]
  },
  {
   "cell_type": "markdown",
   "id": "c3481317-deac-43b9-86ea-e73ca05b0e5a",
   "metadata": {},
   "source": [
    "# Process Data\n",
    "Input : Social_Weakness , Changes_Habits, Days_Indoors, Mental_Health_History, Gender, Mood_Swings, Occupation, Work_Interest"
   ]
  },
  {
   "cell_type": "code",
   "execution_count": 42,
   "id": "a9489437-9be4-45ac-af00-c0bb99d2753c",
   "metadata": {},
   "outputs": [],
   "source": [
    "import pandas as pd\n",
    "import random\n",
    "import pickle\n",
    "import numpy as np"
   ]
  },
  {
   "cell_type": "code",
   "execution_count": 43,
   "id": "e42f70f5-d991-4a79-a959-4fa9ad8c3c11",
   "metadata": {},
   "outputs": [],
   "source": [
    "def occ_func( occupation):\n",
    "    my_list = []\n",
    "    occupation_names= ['Occupation_Student','Occupation_Corporate','Occupation_Housewife','Occupation_Others']\n",
    "    for name in occupation_names:\n",
    "        if occupation in name:\n",
    "            my_list.append(1)\n",
    "        else:\n",
    "            my_list.append(0)\n",
    "    return my_list\n",
    "\n",
    "def Days_Indoors_encode(value):\n",
    "    if value == '1-14 days':\n",
    "        return np.random.randint(1, 15)  # Random number between 1 and 14\n",
    "    elif value == '15-30 days':\n",
    "        return np.random.randint(15, 31) # Random number between 15 and 30\n",
    "    elif value == '31-60 days':\n",
    "        return np.random.randint(31, 61) # Random number between 31 and 60\n",
    "    elif value == 'Go out Every day':\n",
    "        return 0  # Assuming 0 means going out every day\n",
    "    elif value == 'More than 2 months':\n",
    "        return np.random.randint(61, 181) # Random number greater than 60 (e.g., up to 6 months)\n",
    "    else:\n",
    "        print(value, \"nnnno\")\n",
    "\n"
   ]
  },
  {
   "cell_type": "code",
   "execution_count": 44,
   "id": "2d656617-ca9d-4dfd-9be5-88e8cf2cb771",
   "metadata": {},
   "outputs": [
    {
     "data": {
      "text/plain": [
       "['No', 'Yes', '1-14 days', 'No', 'Female', 'Medium', 0, 1, 0, 0, 'Yes']"
      ]
     },
     "execution_count": 44,
     "metadata": {},
     "output_type": "execute_result"
    }
   ],
   "source": [
    "input_feature = ['No','Yes', '1-14 days', 'No', 'Female','Medium','Corporate',  'Yes']\n",
    "\n",
    "column_names = ['Social_Weakness','Changes_Habits','Days_Indoors','Mental_Health_History','Gender','Mood_Swings',\n",
    "         'Occupation_Student','Occupation_Corporate','Occupation_Housewife','Occupation_Others', 'Work_Interest',]\n",
    "\n",
    "occ_encode = occ_func(input_feature[6])\n",
    "input_list = input_feature[:-2] + occ_encode + [input_feature[-1]]\n",
    "input_list"
   ]
  },
  {
   "cell_type": "code",
   "execution_count": 45,
   "id": "782f04e0-ae0c-459b-a03f-4aa7a286266c",
   "metadata": {},
   "outputs": [],
   "source": [
    "df = pd.DataFrame([input_list],columns= column_names)"
   ]
  },
  {
   "cell_type": "code",
   "execution_count": 46,
   "id": "f30d6279-a09e-4a79-9a47-13bf9942893d",
   "metadata": {},
   "outputs": [
    {
     "name": "stderr",
     "output_type": "stream",
     "text": [
      "C:\\Users\\ANISH\\AppData\\Local\\Temp\\ipykernel_8764\\1843033385.py:5: FutureWarning: DataFrame.applymap has been deprecated. Use DataFrame.map instead.\n",
      "  df[column_name] = df[column_name].applymap(lambda x: mapping.get(x, x))\n"
     ]
    }
   ],
   "source": [
    "df['Days_Indoors'] = df['Days_Indoors'].apply(Days_Indoors_encode)\n",
    "\n",
    "column_name = ['Gender', 'Changes_Habits', 'Mental_Health_History', 'Mood_Swings', 'Work_Interest', 'Social_Weakness']\n",
    "mapping = {'No':0, 'Maybe': 1, 'Yes':2, 'Not sure':1, 'Low':0, 'Medium':1, 'High':2,'None':1,'Female':0, 'Male':1}\n",
    "df[column_name] = df[column_name].applymap(lambda x: mapping.get(x, x))"
   ]
  },
  {
   "cell_type": "code",
   "execution_count": 47,
   "id": "e1aa0bd2-d891-47e4-a247-4cd86f5e276d",
   "metadata": {},
   "outputs": [
    {
     "data": {
      "text/html": [
       "<div>\n",
       "<style scoped>\n",
       "    .dataframe tbody tr th:only-of-type {\n",
       "        vertical-align: middle;\n",
       "    }\n",
       "\n",
       "    .dataframe tbody tr th {\n",
       "        vertical-align: top;\n",
       "    }\n",
       "\n",
       "    .dataframe thead th {\n",
       "        text-align: right;\n",
       "    }\n",
       "</style>\n",
       "<table border=\"1\" class=\"dataframe\">\n",
       "  <thead>\n",
       "    <tr style=\"text-align: right;\">\n",
       "      <th></th>\n",
       "      <th>Social_Weakness</th>\n",
       "      <th>Changes_Habits</th>\n",
       "      <th>Days_Indoors</th>\n",
       "      <th>Mental_Health_History</th>\n",
       "      <th>Gender</th>\n",
       "      <th>Mood_Swings</th>\n",
       "      <th>Occupation_Student</th>\n",
       "      <th>Occupation_Corporate</th>\n",
       "      <th>Occupation_Housewife</th>\n",
       "      <th>Occupation_Others</th>\n",
       "      <th>Work_Interest</th>\n",
       "    </tr>\n",
       "  </thead>\n",
       "  <tbody>\n",
       "    <tr>\n",
       "      <th>0</th>\n",
       "      <td>0</td>\n",
       "      <td>2</td>\n",
       "      <td>8</td>\n",
       "      <td>0</td>\n",
       "      <td>0</td>\n",
       "      <td>1</td>\n",
       "      <td>0</td>\n",
       "      <td>1</td>\n",
       "      <td>0</td>\n",
       "      <td>0</td>\n",
       "      <td>2</td>\n",
       "    </tr>\n",
       "  </tbody>\n",
       "</table>\n",
       "</div>"
      ],
      "text/plain": [
       "   Social_Weakness  Changes_Habits  Days_Indoors  Mental_Health_History  \\\n",
       "0                0               2             8                      0   \n",
       "\n",
       "   Gender  Mood_Swings  Occupation_Student  Occupation_Corporate  \\\n",
       "0       0            1                   0                     1   \n",
       "\n",
       "   Occupation_Housewife  Occupation_Others  Work_Interest  \n",
       "0                     0                  0              2  "
      ]
     },
     "execution_count": 47,
     "metadata": {},
     "output_type": "execute_result"
    }
   ],
   "source": [
    "df"
   ]
  },
  {
   "cell_type": "markdown",
   "id": "1017385d-d2d1-42c8-9243-09e7a40c5bcb",
   "metadata": {},
   "source": [
    "# Deployment phase"
   ]
  },
  {
   "cell_type": "code",
   "execution_count": 51,
   "id": "84620790-1459-4f32-8540-9880f575d8d1",
   "metadata": {},
   "outputs": [
    {
     "name": "stdout",
     "output_type": "stream",
     "text": [
      "Yes\n"
     ]
    }
   ],
   "source": [
    "load_model = pickle.load(open('Depression_detection_model.sav', 'rb'))\n",
    "pred = load_model.predict(df)\n",
    "if pred[0] == 0:\n",
    "    print(\"No\")\n",
    "else:\n",
    "    print(\"Yes\")"
   ]
  }
 ],
 "metadata": {
  "kernelspec": {
   "display_name": "Python 3 (ipykernel)",
   "language": "python",
   "name": "python3"
  },
  "language_info": {
   "codemirror_mode": {
    "name": "ipython",
    "version": 3
   },
   "file_extension": ".py",
   "mimetype": "text/x-python",
   "name": "python",
   "nbconvert_exporter": "python",
   "pygments_lexer": "ipython3",
   "version": "3.12.7"
  }
 },
 "nbformat": 4,
 "nbformat_minor": 5
}
