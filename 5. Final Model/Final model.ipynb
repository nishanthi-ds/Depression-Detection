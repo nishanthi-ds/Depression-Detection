{
 "cells": [
  {
   "cell_type": "code",
   "execution_count": 1,
   "id": "80d06846-e1db-4ebc-9012-1c50f2c6de13",
   "metadata": {},
   "outputs": [],
   "source": [
    "# Import Libraries\n",
    "import pandas as pd\n",
    "from sklearn.model_selection import train_test_split,GridSearchCV\n",
    "from sklearn.tree import DecisionTreeClassifier\n",
    "from sklearn.metrics import classification_report,f1_score\n"
   ]
  },
  {
   "cell_type": "code",
   "execution_count": 2,
   "id": "a9a604bc-41e6-457b-a9e7-60a1038d9437",
   "metadata": {},
   "outputs": [],
   "source": [
    "# read preprocessed dataset\n",
    "df = pd.read_csv(r\"C:\\Nishanthi\\Hope AI\\Projects\\Depression Detection\\Ordered_Formate\\2.Data- Preprocessing\\Preprocessed_data.csv\")"
   ]
  },
  {
   "cell_type": "markdown",
   "id": "b752d955-9300-4db0-bd6a-51920334184f",
   "metadata": {},
   "source": [
    "# Split Train and Test data"
   ]
  },
  {
   "cell_type": "code",
   "execution_count": 3,
   "id": "09e930fb-1dcc-481b-848d-244e3ff65640",
   "metadata": {},
   "outputs": [],
   "source": [
    "# Define features and target\n",
    "X = df[['Social_Weakness','Changes_Habits','Days_Indoors','Mental_Health_History','Gender','Mood_Swings',\n",
    "         'Occupation_Student','Occupation_Corporate','Occupation_Housewife','Occupation_Others','Work_Interest']]  # Features\n",
    "y = df['Growing_Stress']  # Target\n",
    "X_train, X_test, y_train, y_test = train_test_split(X, y, train_size=0.9, random_state=42)"
   ]
  },
  {
   "cell_type": "markdown",
   "id": "c67ab417-5c65-4579-9484-7b6c1bd450e3",
   "metadata": {},
   "source": [
    "# Decision Tree Model"
   ]
  },
  {
   "cell_type": "code",
   "execution_count": 4,
   "id": "f5394854-5e51-467f-bd9a-7e14fed8eb4f",
   "metadata": {},
   "outputs": [
    {
     "name": "stdout",
     "output_type": "stream",
     "text": [
      "F1 score: 0.9927102317104921\n"
     ]
    }
   ],
   "source": [
    "# Decision Tree\n",
    "\n",
    "model = DecisionTreeClassifier(criterion='gini', splitter='best', \n",
    "                               max_depth=15, min_samples_split=2, \n",
    "                               min_samples_leaf=2, random_state=42)\n",
    "model.fit(X_train, y_train)\n",
    "\n",
    "y_pred = model.predict(X_test)\n",
    "\n",
    "print(\"F1 score:\",f1_score(y_test, y_pred))"
   ]
  },
  {
   "cell_type": "markdown",
   "id": "d07b31b1-d83e-48f2-8621-cfe72230faf5",
   "metadata": {},
   "source": [
    "# Evaluating the model"
   ]
  },
  {
   "cell_type": "markdown",
   "id": "9b6fca88-aa19-4053-b0e2-cf37d4fcf25a",
   "metadata": {},
   "source": [
    "# Perform Cross-Validation "
   ]
  },
  {
   "cell_type": "code",
   "execution_count": 5,
   "id": "b8a0d546-8938-4c0e-b1f3-d28d6ebbc06a",
   "metadata": {},
   "outputs": [
    {
     "name": "stdout",
     "output_type": "stream",
     "text": [
      "Cross Validation Result for Best model : [0.99003812 0.99031089 0.99207068 0.98949709 0.98692666]\n"
     ]
    }
   ],
   "source": [
    "\n",
    "from sklearn.model_selection import StratifiedKFold, cross_val_score\n",
    "\n",
    "skf = StratifiedKFold(n_splits=5, shuffle=True, random_state=42)\n",
    "f1_scores = cross_val_score(model, X, y, cv=skf, scoring='f1_macro')\n",
    "print(\"Cross Validation Result for Best model :\", f1_scores)"
   ]
  },
  {
   "cell_type": "markdown",
   "id": "95e468bb-9f06-4fef-aab4-5fabc34b5dda",
   "metadata": {},
   "source": [
    "# Classification Report"
   ]
  },
  {
   "cell_type": "code",
   "execution_count": 6,
   "id": "2609a0a3-fb56-46bd-be4a-72a2d5254cfe",
   "metadata": {},
   "outputs": [
    {
     "name": "stdout",
     "output_type": "stream",
     "text": [
      "Classification report\n",
      "              precision    recall  f1-score   support\n",
      "\n",
      "           0       0.99      0.99      0.99      3554\n",
      "           1       0.99      0.99      0.99      3839\n",
      "\n",
      "    accuracy                           0.99      7393\n",
      "   macro avg       0.99      0.99      0.99      7393\n",
      "weighted avg       0.99      0.99      0.99      7393\n",
      "\n"
     ]
    }
   ],
   "source": [
    "print(\"Classification report\")\n",
    "print(classification_report(y_test, y_pred))"
   ]
  },
  {
   "cell_type": "markdown",
   "id": "c3a20fcc-14d2-4f08-b01f-563cb69fd68f",
   "metadata": {},
   "source": [
    "# Confusion Matrix"
   ]
  },
  {
   "cell_type": "code",
   "execution_count": 7,
   "id": "9b378045-e8f8-43c0-bfe3-e9237ee8c708",
   "metadata": {},
   "outputs": [
    {
     "data": {
      "text/plain": [
       "<sklearn.metrics._plot.confusion_matrix.ConfusionMatrixDisplay at 0x1c8d9b4eba0>"
      ]
     },
     "execution_count": 7,
     "metadata": {},
     "output_type": "execute_result"
    },
    {
     "data": {
      "image/png": "[encoded data removed]",
      "text/plain": [
       "<Figure size 640x480 with 2 Axes>"
      ]
     },
     "metadata": {},
     "output_type": "display_data"
    }
   ],
   "source": [
    "from sklearn.metrics import confusion_matrix, ConfusionMatrixDisplay\n",
    "\n",
    "cm = confusion_matrix(y_test, y_pred)\n",
    "ConfusionMatrixDisplay(cm).plot()\n"
   ]
  },
  {
   "cell_type": "markdown",
   "id": "e0788c40-81da-40dd-a027-702c6a16959d",
   "metadata": {},
   "source": [
    "# Save model"
   ]
  },
  {
   "cell_type": "code",
   "execution_count": 9,
   "id": "f6288fa0-a48f-4d28-9bfb-21ba596a44c2",
   "metadata": {},
   "outputs": [],
   "source": [
    "# save best model  - Decision Tree\n",
    "import pickle \n",
    "\n",
    "pickle.dump(model, open('Depression_detection_model.sav', 'wb'))"
   ]
  }
 ],
 "metadata": {
  "kernelspec": {
   "display_name": "Python 3 (ipykernel)",
   "language": "python",
   "name": "python3"
  },
  "language_info": {
   "codemirror_mode": {
    "name": "ipython",
    "version": 3
   },
   "file_extension": ".py",
   "mimetype": "text/x-python",
   "name": "python",
   "nbconvert_exporter": "python",
   "pygments_lexer": "ipython3",
   "version": "3.12.7"
  }
 },
 "nbformat": 4,
 "nbformat_minor": 5
}
